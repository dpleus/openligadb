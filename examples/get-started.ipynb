{
 "cells": [
  {
   "cell_type": "code",
   "execution_count": 1,
   "metadata": {
    "collapsed": true
   },
   "outputs": [],
   "source": [
    "# Import package\n",
    "from openligadb.api import Connection"
   ]
  },
  {
   "cell_type": "code",
   "execution_count": 2,
   "outputs": [],
   "source": [
    "# Create Connection\n",
    "connection = Connection()"
   ],
   "metadata": {
    "collapsed": false,
    "pycharm": {
     "name": "#%%\n"
    }
   }
  },
  {
   "cell_type": "code",
   "execution_count": 3,
   "outputs": [
    {
     "data": {
      "text/plain": "               match_time  minute     player_name           team_player  \\\n0     2020-09-18T17:45:00      18  Mai, Sebastian     SG Dynamo Dresden   \n1     2020-09-19T14:00:00      10         Sararer      Türkgücü München   \n2     2020-09-19T14:00:00      23     Adrian Fein  FC Bayern München II   \n3     2020-09-19T14:00:00      72            Kern  FC Bayern München II   \n4     2020-09-19T14:00:00      81            Holz      Türkgücü München   \n...                   ...     ...             ...                   ...   \n1009  2021-05-22T13:30:00      61        Heinrich    SpVgg Unterhaching   \n1010  2021-05-22T13:30:00      24          Jensen           FSV Zwickau   \n1011  2021-05-22T13:30:00      76   Lars Lokotsch           FSV Zwickau   \n1012  2021-05-22T13:30:00      54           Jakob      Türkgücü München   \n1013  2021-05-22T13:30:00      63           Risse      FC Viktoria Köln   \n\n             team_opponent  score_player  score_opponent  \n0     1. FC Kaiserslautern             1               0  \n1     FC Bayern München II             1               0  \n2         Türkgücü München             1               1  \n3         Türkgücü München             2               1  \n4     FC Bayern München II             2               2  \n...                    ...           ...             ...  \n1009       1. FC Magdeburg             1               1  \n1010     1. FC Saarbrücken             1               0  \n1011     1. FC Saarbrücken             2               0  \n1012      FC Viktoria Köln             1               0  \n1013      Türkgücü München             1               1  \n\n[1014 rows x 7 columns]",
      "text/html": "<div>\n<style scoped>\n    .dataframe tbody tr th:only-of-type {\n        vertical-align: middle;\n    }\n\n    .dataframe tbody tr th {\n        vertical-align: top;\n    }\n\n    .dataframe thead th {\n        text-align: right;\n    }\n</style>\n<table border=\"1\" class=\"dataframe\">\n  <thead>\n    <tr style=\"text-align: right;\">\n      <th></th>\n      <th>match_time</th>\n      <th>minute</th>\n      <th>player_name</th>\n      <th>team_player</th>\n      <th>team_opponent</th>\n      <th>score_player</th>\n      <th>score_opponent</th>\n    </tr>\n  </thead>\n  <tbody>\n    <tr>\n      <th>0</th>\n      <td>2020-09-18T17:45:00</td>\n      <td>18</td>\n      <td>Mai, Sebastian</td>\n      <td>SG Dynamo Dresden</td>\n      <td>1. FC Kaiserslautern</td>\n      <td>1</td>\n      <td>0</td>\n    </tr>\n    <tr>\n      <th>1</th>\n      <td>2020-09-19T14:00:00</td>\n      <td>10</td>\n      <td>Sararer</td>\n      <td>Türkgücü München</td>\n      <td>FC Bayern München II</td>\n      <td>1</td>\n      <td>0</td>\n    </tr>\n    <tr>\n      <th>2</th>\n      <td>2020-09-19T14:00:00</td>\n      <td>23</td>\n      <td>Adrian Fein</td>\n      <td>FC Bayern München II</td>\n      <td>Türkgücü München</td>\n      <td>1</td>\n      <td>1</td>\n    </tr>\n    <tr>\n      <th>3</th>\n      <td>2020-09-19T14:00:00</td>\n      <td>72</td>\n      <td>Kern</td>\n      <td>FC Bayern München II</td>\n      <td>Türkgücü München</td>\n      <td>2</td>\n      <td>1</td>\n    </tr>\n    <tr>\n      <th>4</th>\n      <td>2020-09-19T14:00:00</td>\n      <td>81</td>\n      <td>Holz</td>\n      <td>Türkgücü München</td>\n      <td>FC Bayern München II</td>\n      <td>2</td>\n      <td>2</td>\n    </tr>\n    <tr>\n      <th>...</th>\n      <td>...</td>\n      <td>...</td>\n      <td>...</td>\n      <td>...</td>\n      <td>...</td>\n      <td>...</td>\n      <td>...</td>\n    </tr>\n    <tr>\n      <th>1009</th>\n      <td>2021-05-22T13:30:00</td>\n      <td>61</td>\n      <td>Heinrich</td>\n      <td>SpVgg Unterhaching</td>\n      <td>1. FC Magdeburg</td>\n      <td>1</td>\n      <td>1</td>\n    </tr>\n    <tr>\n      <th>1010</th>\n      <td>2021-05-22T13:30:00</td>\n      <td>24</td>\n      <td>Jensen</td>\n      <td>FSV Zwickau</td>\n      <td>1. FC Saarbrücken</td>\n      <td>1</td>\n      <td>0</td>\n    </tr>\n    <tr>\n      <th>1011</th>\n      <td>2021-05-22T13:30:00</td>\n      <td>76</td>\n      <td>Lars Lokotsch</td>\n      <td>FSV Zwickau</td>\n      <td>1. FC Saarbrücken</td>\n      <td>2</td>\n      <td>0</td>\n    </tr>\n    <tr>\n      <th>1012</th>\n      <td>2021-05-22T13:30:00</td>\n      <td>54</td>\n      <td>Jakob</td>\n      <td>Türkgücü München</td>\n      <td>FC Viktoria Köln</td>\n      <td>1</td>\n      <td>0</td>\n    </tr>\n    <tr>\n      <th>1013</th>\n      <td>2021-05-22T13:30:00</td>\n      <td>63</td>\n      <td>Risse</td>\n      <td>FC Viktoria Köln</td>\n      <td>Türkgücü München</td>\n      <td>1</td>\n      <td>1</td>\n    </tr>\n  </tbody>\n</table>\n<p>1014 rows × 7 columns</p>\n</div>"
     },
     "execution_count": 3,
     "metadata": {},
     "output_type": "execute_result"
    }
   ],
   "source": [
    "# Example 1: Get Goals\n",
    "connection.get_goals(\"bl3\", 2020)"
   ],
   "metadata": {
    "collapsed": false,
    "pycharm": {
     "name": "#%%\n"
    }
   }
  },
  {
   "cell_type": "code",
   "execution_count": 4,
   "outputs": [
    {
     "data": {
      "text/plain": "    TeamInfoId              TeamName     ShortName  \\\n0          177     SG Dynamo Dresden        Dynamo   \n1          102      FC Hansa Rostock       Rostock   \n2          171      FC Ingolstadt 04    Ingolstadt   \n3          125      TSV 1860 München  1860 München   \n4          417     1. FC Saarbrücken          None   \n5          174    SV Wehen Wiesbaden     Wiesbaden   \n6          114               SC Verl          None   \n7          553   SV Waldhof Mannheim          None   \n8          208         Hallescher FC         Halle   \n9         1979           FSV Zwickau          None   \n10          78       1. FC Magdeburg           FCM   \n11        2199      FC Viktoria Köln          None   \n12        5211      Türkgücü München      Türkgücü   \n13         563      KFC Uerdingen 05     Uerdingen   \n14          76  1. FC Kaiserslautern     K'Lautern   \n15         107          MSV Duisburg      Duisburg   \n16         599             SV Meppen          None   \n17         179  FC Bayern München II          None   \n18         532            VfB Lübeck          None   \n19         116    SpVgg Unterhaching  Unterhaching   \n\n                                          TeamIconUrl  Points  OpponentGoals  \\\n0   https://upload.wikimedia.org/wikipedia/de/e/e1...      75             29   \n1   https://upload.wikimedia.org/wikipedia/commons...      71             33   \n2   https://upload.wikimedia.org/wikipedia/de/thum...      71             40   \n3   https://upload.wikimedia.org/wikipedia/commons...      66             35   \n4   http://upload.wikimedia.org/wikipedia/de/thumb...      59             51   \n5   https://upload.wikimedia.org/wikipedia/de/thum...      56             53   \n6   https://www.openligadb.de/images/teamicons/SC_...      55             55   \n7   https://upload.wikimedia.org/wikipedia/commons...      52             55   \n8   https://upload.wikimedia.org/wikipedia/commons...      52             58   \n9   https://upload.wikimedia.org/wikipedia/de/thum...      51             45   \n10  https://upload.wikimedia.org/wikipedia/commons...      51             45   \n11  https://upload.wikimedia.org/wikipedia/commons...      51             59   \n12                  https://turkgucu.de/i/logo-tm.svg      47             55   \n13  https://upload.wikimedia.org/wikipedia/commons...      44             50   \n14  https://upload.wikimedia.org/wikipedia/commons...      43             52   \n15  https://upload.wikimedia.org/wikipedia/en/c/c8...      43             67   \n16  https://upload.wikimedia.org/wikipedia/commons...      41             61   \n17  https://www.openligadb.de/images/teamicons/Bay...      37             58   \n18  http://upload.wikimedia.org/wikipedia/de/8/86/...      35             57   \n19  https://www.openligadb.de/images/teamicons/SpV...      32             57   \n\n    Goals  Matches  Won  Lost  Draw  GoalDiff  \n0      61       38   23     9     6        32  \n1      52       38   20     7    11        19  \n2      56       38   20     7    11        16  \n3      69       38   18     8    12        34  \n4      66       38   16    11    11        15  \n5      57       38   15    12    11         4  \n6      66       38   14    11    13        11  \n7      50       38   13    12    13        -5  \n8      51       38   14    14    10        -7  \n9      46       38   13    13    12         1  \n10     42       38   14    15     9        -3  \n11     52       38   13    13    12        -7  \n12     45       38   12    15    11       -10  \n13     38       38   11    16    11       -12  \n14     47       38    8    11    19        -5  \n15     52       38   11    17    10       -15  \n16     37       38   12    21     5       -24  \n17     47       38    8    17    13       -11  \n18     41       38    8    19    11       -16  \n19     40       38    9    24     5       -17  ",
      "text/html": "<div>\n<style scoped>\n    .dataframe tbody tr th:only-of-type {\n        vertical-align: middle;\n    }\n\n    .dataframe tbody tr th {\n        vertical-align: top;\n    }\n\n    .dataframe thead th {\n        text-align: right;\n    }\n</style>\n<table border=\"1\" class=\"dataframe\">\n  <thead>\n    <tr style=\"text-align: right;\">\n      <th></th>\n      <th>TeamInfoId</th>\n      <th>TeamName</th>\n      <th>ShortName</th>\n      <th>TeamIconUrl</th>\n      <th>Points</th>\n      <th>OpponentGoals</th>\n      <th>Goals</th>\n      <th>Matches</th>\n      <th>Won</th>\n      <th>Lost</th>\n      <th>Draw</th>\n      <th>GoalDiff</th>\n    </tr>\n  </thead>\n  <tbody>\n    <tr>\n      <th>0</th>\n      <td>177</td>\n      <td>SG Dynamo Dresden</td>\n      <td>Dynamo</td>\n      <td>https://upload.wikimedia.org/wikipedia/de/e/e1...</td>\n      <td>75</td>\n      <td>29</td>\n      <td>61</td>\n      <td>38</td>\n      <td>23</td>\n      <td>9</td>\n      <td>6</td>\n      <td>32</td>\n    </tr>\n    <tr>\n      <th>1</th>\n      <td>102</td>\n      <td>FC Hansa Rostock</td>\n      <td>Rostock</td>\n      <td>https://upload.wikimedia.org/wikipedia/commons...</td>\n      <td>71</td>\n      <td>33</td>\n      <td>52</td>\n      <td>38</td>\n      <td>20</td>\n      <td>7</td>\n      <td>11</td>\n      <td>19</td>\n    </tr>\n    <tr>\n      <th>2</th>\n      <td>171</td>\n      <td>FC Ingolstadt 04</td>\n      <td>Ingolstadt</td>\n      <td>https://upload.wikimedia.org/wikipedia/de/thum...</td>\n      <td>71</td>\n      <td>40</td>\n      <td>56</td>\n      <td>38</td>\n      <td>20</td>\n      <td>7</td>\n      <td>11</td>\n      <td>16</td>\n    </tr>\n    <tr>\n      <th>3</th>\n      <td>125</td>\n      <td>TSV 1860 München</td>\n      <td>1860 München</td>\n      <td>https://upload.wikimedia.org/wikipedia/commons...</td>\n      <td>66</td>\n      <td>35</td>\n      <td>69</td>\n      <td>38</td>\n      <td>18</td>\n      <td>8</td>\n      <td>12</td>\n      <td>34</td>\n    </tr>\n    <tr>\n      <th>4</th>\n      <td>417</td>\n      <td>1. FC Saarbrücken</td>\n      <td>None</td>\n      <td>http://upload.wikimedia.org/wikipedia/de/thumb...</td>\n      <td>59</td>\n      <td>51</td>\n      <td>66</td>\n      <td>38</td>\n      <td>16</td>\n      <td>11</td>\n      <td>11</td>\n      <td>15</td>\n    </tr>\n    <tr>\n      <th>5</th>\n      <td>174</td>\n      <td>SV Wehen Wiesbaden</td>\n      <td>Wiesbaden</td>\n      <td>https://upload.wikimedia.org/wikipedia/de/thum...</td>\n      <td>56</td>\n      <td>53</td>\n      <td>57</td>\n      <td>38</td>\n      <td>15</td>\n      <td>12</td>\n      <td>11</td>\n      <td>4</td>\n    </tr>\n    <tr>\n      <th>6</th>\n      <td>114</td>\n      <td>SC Verl</td>\n      <td>None</td>\n      <td>https://www.openligadb.de/images/teamicons/SC_...</td>\n      <td>55</td>\n      <td>55</td>\n      <td>66</td>\n      <td>38</td>\n      <td>14</td>\n      <td>11</td>\n      <td>13</td>\n      <td>11</td>\n    </tr>\n    <tr>\n      <th>7</th>\n      <td>553</td>\n      <td>SV Waldhof Mannheim</td>\n      <td>None</td>\n      <td>https://upload.wikimedia.org/wikipedia/commons...</td>\n      <td>52</td>\n      <td>55</td>\n      <td>50</td>\n      <td>38</td>\n      <td>13</td>\n      <td>12</td>\n      <td>13</td>\n      <td>-5</td>\n    </tr>\n    <tr>\n      <th>8</th>\n      <td>208</td>\n      <td>Hallescher FC</td>\n      <td>Halle</td>\n      <td>https://upload.wikimedia.org/wikipedia/commons...</td>\n      <td>52</td>\n      <td>58</td>\n      <td>51</td>\n      <td>38</td>\n      <td>14</td>\n      <td>14</td>\n      <td>10</td>\n      <td>-7</td>\n    </tr>\n    <tr>\n      <th>9</th>\n      <td>1979</td>\n      <td>FSV Zwickau</td>\n      <td>None</td>\n      <td>https://upload.wikimedia.org/wikipedia/de/thum...</td>\n      <td>51</td>\n      <td>45</td>\n      <td>46</td>\n      <td>38</td>\n      <td>13</td>\n      <td>13</td>\n      <td>12</td>\n      <td>1</td>\n    </tr>\n    <tr>\n      <th>10</th>\n      <td>78</td>\n      <td>1. FC Magdeburg</td>\n      <td>FCM</td>\n      <td>https://upload.wikimedia.org/wikipedia/commons...</td>\n      <td>51</td>\n      <td>45</td>\n      <td>42</td>\n      <td>38</td>\n      <td>14</td>\n      <td>15</td>\n      <td>9</td>\n      <td>-3</td>\n    </tr>\n    <tr>\n      <th>11</th>\n      <td>2199</td>\n      <td>FC Viktoria Köln</td>\n      <td>None</td>\n      <td>https://upload.wikimedia.org/wikipedia/commons...</td>\n      <td>51</td>\n      <td>59</td>\n      <td>52</td>\n      <td>38</td>\n      <td>13</td>\n      <td>13</td>\n      <td>12</td>\n      <td>-7</td>\n    </tr>\n    <tr>\n      <th>12</th>\n      <td>5211</td>\n      <td>Türkgücü München</td>\n      <td>Türkgücü</td>\n      <td>https://turkgucu.de/i/logo-tm.svg</td>\n      <td>47</td>\n      <td>55</td>\n      <td>45</td>\n      <td>38</td>\n      <td>12</td>\n      <td>15</td>\n      <td>11</td>\n      <td>-10</td>\n    </tr>\n    <tr>\n      <th>13</th>\n      <td>563</td>\n      <td>KFC Uerdingen 05</td>\n      <td>Uerdingen</td>\n      <td>https://upload.wikimedia.org/wikipedia/commons...</td>\n      <td>44</td>\n      <td>50</td>\n      <td>38</td>\n      <td>38</td>\n      <td>11</td>\n      <td>16</td>\n      <td>11</td>\n      <td>-12</td>\n    </tr>\n    <tr>\n      <th>14</th>\n      <td>76</td>\n      <td>1. FC Kaiserslautern</td>\n      <td>K'Lautern</td>\n      <td>https://upload.wikimedia.org/wikipedia/commons...</td>\n      <td>43</td>\n      <td>52</td>\n      <td>47</td>\n      <td>38</td>\n      <td>8</td>\n      <td>11</td>\n      <td>19</td>\n      <td>-5</td>\n    </tr>\n    <tr>\n      <th>15</th>\n      <td>107</td>\n      <td>MSV Duisburg</td>\n      <td>Duisburg</td>\n      <td>https://upload.wikimedia.org/wikipedia/en/c/c8...</td>\n      <td>43</td>\n      <td>67</td>\n      <td>52</td>\n      <td>38</td>\n      <td>11</td>\n      <td>17</td>\n      <td>10</td>\n      <td>-15</td>\n    </tr>\n    <tr>\n      <th>16</th>\n      <td>599</td>\n      <td>SV Meppen</td>\n      <td>None</td>\n      <td>https://upload.wikimedia.org/wikipedia/commons...</td>\n      <td>41</td>\n      <td>61</td>\n      <td>37</td>\n      <td>38</td>\n      <td>12</td>\n      <td>21</td>\n      <td>5</td>\n      <td>-24</td>\n    </tr>\n    <tr>\n      <th>17</th>\n      <td>179</td>\n      <td>FC Bayern München II</td>\n      <td>None</td>\n      <td>https://www.openligadb.de/images/teamicons/Bay...</td>\n      <td>37</td>\n      <td>58</td>\n      <td>47</td>\n      <td>38</td>\n      <td>8</td>\n      <td>17</td>\n      <td>13</td>\n      <td>-11</td>\n    </tr>\n    <tr>\n      <th>18</th>\n      <td>532</td>\n      <td>VfB Lübeck</td>\n      <td>None</td>\n      <td>http://upload.wikimedia.org/wikipedia/de/8/86/...</td>\n      <td>35</td>\n      <td>57</td>\n      <td>41</td>\n      <td>38</td>\n      <td>8</td>\n      <td>19</td>\n      <td>11</td>\n      <td>-16</td>\n    </tr>\n    <tr>\n      <th>19</th>\n      <td>116</td>\n      <td>SpVgg Unterhaching</td>\n      <td>Unterhaching</td>\n      <td>https://www.openligadb.de/images/teamicons/SpV...</td>\n      <td>32</td>\n      <td>57</td>\n      <td>40</td>\n      <td>38</td>\n      <td>9</td>\n      <td>24</td>\n      <td>5</td>\n      <td>-17</td>\n    </tr>\n  </tbody>\n</table>\n</div>"
     },
     "execution_count": 4,
     "metadata": {},
     "output_type": "execute_result"
    }
   ],
   "source": [
    "# Example 2: Get Table\n",
    "connection.get_table(\"bl3\", 2020)"
   ],
   "metadata": {
    "collapsed": false,
    "pycharm": {
     "name": "#%%\n"
    }
   }
  },
  {
   "cell_type": "code",
   "execution_count": 5,
   "outputs": [
    {
     "data": {
      "text/plain": "                    time             team_home           team_away  \\\n0    2020-09-18T17:45:00  1. FC Kaiserslautern   SG Dynamo Dresden   \n1    2020-09-19T14:00:00  FC Bayern München II    Türkgücü München   \n2    2020-09-19T14:00:00            VfB Lübeck   1. FC Saarbrücken   \n3    2020-09-19T14:00:00      FC Hansa Rostock        MSV Duisburg   \n4    2020-09-19T14:00:00    SV Wehen Wiesbaden             SC Verl   \n..                   ...                   ...                 ...   \n375  2021-05-22T13:30:00             SV Meppen        MSV Duisburg   \n376  2021-05-22T13:30:00  1. FC Kaiserslautern             SC Verl   \n377  2021-05-22T13:30:00       1. FC Magdeburg  SpVgg Unterhaching   \n378  2021-05-22T13:30:00           FSV Zwickau   1. FC Saarbrücken   \n379  2021-05-22T13:30:00      Türkgücü München    FC Viktoria Köln   \n\n     goals_home  goals_away  \n0             0           1  \n1             2           2  \n2             1           1  \n3             3           1  \n4             0           0  \n..          ...         ...  \n375           2           1  \n376           1           1  \n377           1           1  \n378           2           0  \n379           1           1  \n\n[380 rows x 5 columns]",
      "text/html": "<div>\n<style scoped>\n    .dataframe tbody tr th:only-of-type {\n        vertical-align: middle;\n    }\n\n    .dataframe tbody tr th {\n        vertical-align: top;\n    }\n\n    .dataframe thead th {\n        text-align: right;\n    }\n</style>\n<table border=\"1\" class=\"dataframe\">\n  <thead>\n    <tr style=\"text-align: right;\">\n      <th></th>\n      <th>time</th>\n      <th>team_home</th>\n      <th>team_away</th>\n      <th>goals_home</th>\n      <th>goals_away</th>\n    </tr>\n  </thead>\n  <tbody>\n    <tr>\n      <th>0</th>\n      <td>2020-09-18T17:45:00</td>\n      <td>1. FC Kaiserslautern</td>\n      <td>SG Dynamo Dresden</td>\n      <td>0</td>\n      <td>1</td>\n    </tr>\n    <tr>\n      <th>1</th>\n      <td>2020-09-19T14:00:00</td>\n      <td>FC Bayern München II</td>\n      <td>Türkgücü München</td>\n      <td>2</td>\n      <td>2</td>\n    </tr>\n    <tr>\n      <th>2</th>\n      <td>2020-09-19T14:00:00</td>\n      <td>VfB Lübeck</td>\n      <td>1. FC Saarbrücken</td>\n      <td>1</td>\n      <td>1</td>\n    </tr>\n    <tr>\n      <th>3</th>\n      <td>2020-09-19T14:00:00</td>\n      <td>FC Hansa Rostock</td>\n      <td>MSV Duisburg</td>\n      <td>3</td>\n      <td>1</td>\n    </tr>\n    <tr>\n      <th>4</th>\n      <td>2020-09-19T14:00:00</td>\n      <td>SV Wehen Wiesbaden</td>\n      <td>SC Verl</td>\n      <td>0</td>\n      <td>0</td>\n    </tr>\n    <tr>\n      <th>...</th>\n      <td>...</td>\n      <td>...</td>\n      <td>...</td>\n      <td>...</td>\n      <td>...</td>\n    </tr>\n    <tr>\n      <th>375</th>\n      <td>2021-05-22T13:30:00</td>\n      <td>SV Meppen</td>\n      <td>MSV Duisburg</td>\n      <td>2</td>\n      <td>1</td>\n    </tr>\n    <tr>\n      <th>376</th>\n      <td>2021-05-22T13:30:00</td>\n      <td>1. FC Kaiserslautern</td>\n      <td>SC Verl</td>\n      <td>1</td>\n      <td>1</td>\n    </tr>\n    <tr>\n      <th>377</th>\n      <td>2021-05-22T13:30:00</td>\n      <td>1. FC Magdeburg</td>\n      <td>SpVgg Unterhaching</td>\n      <td>1</td>\n      <td>1</td>\n    </tr>\n    <tr>\n      <th>378</th>\n      <td>2021-05-22T13:30:00</td>\n      <td>FSV Zwickau</td>\n      <td>1. FC Saarbrücken</td>\n      <td>2</td>\n      <td>0</td>\n    </tr>\n    <tr>\n      <th>379</th>\n      <td>2021-05-22T13:30:00</td>\n      <td>Türkgücü München</td>\n      <td>FC Viktoria Köln</td>\n      <td>1</td>\n      <td>1</td>\n    </tr>\n  </tbody>\n</table>\n<p>380 rows × 5 columns</p>\n</div>"
     },
     "execution_count": 5,
     "metadata": {},
     "output_type": "execute_result"
    }
   ],
   "source": [
    "# Example 3: Get matches\n",
    "connection.get_matches(\"bl3\", 2020)"
   ],
   "metadata": {
    "collapsed": false,
    "pycharm": {
     "name": "#%%\n"
    }
   }
  },
  {
   "cell_type": "code",
   "execution_count": null,
   "outputs": [],
   "source": [
    "\n"
   ],
   "metadata": {
    "collapsed": false,
    "pycharm": {
     "name": "#%%\n"
    }
   }
  }
 ],
 "metadata": {
  "kernelspec": {
   "name": "pycharm-f41adc2b",
   "language": "python",
   "display_name": "PyCharm (openligadb)"
  },
  "language_info": {
   "codemirror_mode": {
    "name": "ipython",
    "version": 2
   },
   "file_extension": ".py",
   "mimetype": "text/x-python",
   "name": "python",
   "nbconvert_exporter": "python",
   "pygments_lexer": "ipython2",
   "version": "2.7.6"
  }
 },
 "nbformat": 4,
 "nbformat_minor": 0
}